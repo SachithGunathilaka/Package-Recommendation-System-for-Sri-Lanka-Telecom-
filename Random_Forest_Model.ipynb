{
  "nbformat": 4,
  "nbformat_minor": 0,
  "metadata": {
    "colab": {
      "provenance": []
    },
    "kernelspec": {
      "name": "python3",
      "display_name": "Python 3"
    },
    "language_info": {
      "name": "python"
    }
  },
  "cells": [
    {
      "cell_type": "markdown",
      "source": [
        "**Step 1: Install Required Libraries**"
      ],
      "metadata": {
        "id": "Ut7dB08OHcZA"
      }
    },
    {
      "cell_type": "code",
      "source": [
        "pip install scikit-learn\n"
      ],
      "metadata": {
        "id": "OnCslcqyHjxh",
        "colab": {
          "base_uri": "https://localhost:8080/"
        },
        "outputId": "c292887b-97a8-4f04-90ef-fbbab5b1c423"
      },
      "execution_count": null,
      "outputs": [
        {
          "output_type": "stream",
          "name": "stdout",
          "text": [
            "Requirement already satisfied: scikit-learn in /usr/local/lib/python3.10/dist-packages (1.2.2)\n",
            "Requirement already satisfied: numpy>=1.17.3 in /usr/local/lib/python3.10/dist-packages (from scikit-learn) (1.23.5)\n",
            "Requirement already satisfied: scipy>=1.3.2 in /usr/local/lib/python3.10/dist-packages (from scikit-learn) (1.11.4)\n",
            "Requirement already satisfied: joblib>=1.1.1 in /usr/local/lib/python3.10/dist-packages (from scikit-learn) (1.3.2)\n",
            "Requirement already satisfied: threadpoolctl>=2.0.0 in /usr/local/lib/python3.10/dist-packages (from scikit-learn) (3.2.0)\n"
          ]
        }
      ]
    },
    {
      "cell_type": "markdown",
      "source": [
        "**Step 2: Import Libraries**"
      ],
      "metadata": {
        "id": "QaImC7N3HnBG"
      }
    },
    {
      "cell_type": "code",
      "source": [
        "import pandas as pd\n",
        "from sklearn.model_selection import train_test_split\n",
        "from sklearn.ensemble import RandomForestClassifier\n",
        "from sklearn.metrics import accuracy_score, classification_report, confusion_matrix\n",
        "import datetime"
      ],
      "metadata": {
        "id": "CceSLI2RGgQ9"
      },
      "execution_count": null,
      "outputs": []
    },
    {
      "cell_type": "markdown",
      "source": [
        "**Step 3: Load and Prepare Data**"
      ],
      "metadata": {
        "id": "TrRAJ9lxHuKE"
      }
    },
    {
      "cell_type": "code",
      "source": [
        "# Load your dataset\n",
        "data = pd.read_csv('/content/slt_data_final.csv')\n",
        "\n",
        "# Print the column names\n",
        "print(data.columns)\n"
      ],
      "metadata": {
        "colab": {
          "base_uri": "https://localhost:8080/"
        },
        "id": "wI0w-lXMxMxw",
        "outputId": "5cf81db7-642a-4a15-f937-09b438be1ece"
      },
      "execution_count": null,
      "outputs": [
        {
          "output_type": "stream",
          "name": "stdout",
          "text": [
            "Index(['PROD_ACTION', 'ADDING_PROMO', 'Deleting_PROMO', 'Age', 'PRODUCT_NAME',\n",
            "       'CATOGORY', 'Package_duration', 'Voice_offnet_call_duration',\n",
            "       'voice_onnet_call_duration', 'voice_local_duration',\n",
            "       'voice_IDD_call_duration', 'Used_data_GB', 'extraGB_amount',\n",
            "       'peo_package', 'additional_event_cost', 'peo_TV_charge'],\n",
            "      dtype='object')\n"
          ]
        },
        {
          "output_type": "stream",
          "name": "stderr",
          "text": [
            "<ipython-input-4-52f8a2f77c0f>:2: DtypeWarning: Columns (0,1,2,3,4) have mixed types. Specify dtype option on import or set low_memory=False.\n",
            "  data = pd.read_csv('/content/slt_data_final.csv')\n"
          ]
        }
      ]
    },
    {
      "cell_type": "code",
      "source": [
        "data['CATOGORY'] = data['CATOGORY'].replace({'DOUBLE_PLAY_VOICE_BB':2 , 'DOUBLE_PLAY_VOICE_PEO':22 ,'SINGLE_PLAY':1,'TRIPLE_PLAY':3})"
      ],
      "metadata": {
        "id": "nMtx_ut9ECr2"
      },
      "execution_count": null,
      "outputs": []
    },
    {
      "cell_type": "code",
      "source": [
        "df=pd.DataFrame(data)"
      ],
      "metadata": {
        "id": "oyXKh118k1i2"
      },
      "execution_count": null,
      "outputs": []
    },
    {
      "cell_type": "code",
      "source": [
        "df"
      ],
      "metadata": {
        "colab": {
          "base_uri": "https://localhost:8080/",
          "height": 443
        },
        "id": "CgqFAyFGlCsx",
        "outputId": "c289c849-16ba-475b-ebf4-d4a8895d5c56"
      },
      "execution_count": null,
      "outputs": [
        {
          "output_type": "execute_result",
          "data": {
            "text/plain": [
              "       PROD_ACTION ADDING_PROMO Deleting_PROMO  Age PRODUCT_NAME  CATOGORY  \\\n",
              "0              NaN          NaN            NaN  NaN          NaN         2   \n",
              "1              NaN          NaN            NaN  NaN          NaN         2   \n",
              "2              NaN          NaN            NaN  NaN          NaN         2   \n",
              "3              NaN          NaN            NaN  NaN          NaN         3   \n",
              "4              NaN          NaN            NaN  NaN          NaN         3   \n",
              "...            ...          ...            ...  ...          ...       ...   \n",
              "131070         NaN          NaN            NaN  NaN          NaN         1   \n",
              "131071         NaN          NaN            NaN  NaN          NaN         1   \n",
              "131072         NaN          NaN            NaN  NaN          NaN         2   \n",
              "131073         NaN          NaN            NaN  NaN          NaN         1   \n",
              "131074         NaN          NaN            NaN  NaN          NaN        22   \n",
              "\n",
              "        Package_duration  Voice_offnet_call_duration  \\\n",
              "0                      0                           0   \n",
              "1                      0                           0   \n",
              "2                      0                           0   \n",
              "3                      0                           0   \n",
              "4                      0                           0   \n",
              "...                  ...                         ...   \n",
              "131070                 0                           0   \n",
              "131071                 0                       49093   \n",
              "131072                 0                           0   \n",
              "131073                 0                       67352   \n",
              "131074                 0                           0   \n",
              "\n",
              "        voice_onnet_call_duration  voice_local_duration  \\\n",
              "0                               0                     0   \n",
              "1                               0                     0   \n",
              "2                               0                     0   \n",
              "3                               0                     0   \n",
              "4                               0                     0   \n",
              "...                           ...                   ...   \n",
              "131070                          0                     0   \n",
              "131071                      57385                106478   \n",
              "131072                          0                     0   \n",
              "131073                          0                 67352   \n",
              "131074                          0                     0   \n",
              "\n",
              "        voice_IDD_call_duration  Used_data_GB  extraGB_amount  peo_package  \\\n",
              "0                            22    102.334588               8            0   \n",
              "1                             0    457.914000               0            0   \n",
              "2                             0    331.441000               0            0   \n",
              "3                             0    420.018555              84         1125   \n",
              "4                          1610    747.546000               0         1875   \n",
              "...                         ...           ...             ...          ...   \n",
              "131070                        0      0.000000              80            0   \n",
              "131071                        0      0.000000               0            0   \n",
              "131072                        0    186.315051              67            0   \n",
              "131073                        0      0.000000               0            0   \n",
              "131074                        0      0.000000               0         1125   \n",
              "\n",
              "        additional_event_cost  peo_TV_charge  \n",
              "0                           0              0  \n",
              "1                           0              0  \n",
              "2                           0              0  \n",
              "3                        3130           4255  \n",
              "4                        6525           8400  \n",
              "...                       ...            ...  \n",
              "131070                      0              0  \n",
              "131071                      0              0  \n",
              "131072                   4944           4944  \n",
              "131073                      0              0  \n",
              "131074                      0           1125  \n",
              "\n",
              "[131075 rows x 16 columns]"
            ],
            "text/html": [
              "\n",
              "  <div id=\"df-db7e6c3f-bde9-4732-811a-a9aa0aed97f6\" class=\"colab-df-container\">\n",
              "    <div>\n",
              "<style scoped>\n",
              "    .dataframe tbody tr th:only-of-type {\n",
              "        vertical-align: middle;\n",
              "    }\n",
              "\n",
              "    .dataframe tbody tr th {\n",
              "        vertical-align: top;\n",
              "    }\n",
              "\n",
              "    .dataframe thead th {\n",
              "        text-align: right;\n",
              "    }\n",
              "</style>\n",
              "<table border=\"1\" class=\"dataframe\">\n",
              "  <thead>\n",
              "    <tr style=\"text-align: right;\">\n",
              "      <th></th>\n",
              "      <th>PROD_ACTION</th>\n",
              "      <th>ADDING_PROMO</th>\n",
              "      <th>Deleting_PROMO</th>\n",
              "      <th>Age</th>\n",
              "      <th>PRODUCT_NAME</th>\n",
              "      <th>CATOGORY</th>\n",
              "      <th>Package_duration</th>\n",
              "      <th>Voice_offnet_call_duration</th>\n",
              "      <th>voice_onnet_call_duration</th>\n",
              "      <th>voice_local_duration</th>\n",
              "      <th>voice_IDD_call_duration</th>\n",
              "      <th>Used_data_GB</th>\n",
              "      <th>extraGB_amount</th>\n",
              "      <th>peo_package</th>\n",
              "      <th>additional_event_cost</th>\n",
              "      <th>peo_TV_charge</th>\n",
              "    </tr>\n",
              "  </thead>\n",
              "  <tbody>\n",
              "    <tr>\n",
              "      <th>0</th>\n",
              "      <td>NaN</td>\n",
              "      <td>NaN</td>\n",
              "      <td>NaN</td>\n",
              "      <td>NaN</td>\n",
              "      <td>NaN</td>\n",
              "      <td>2</td>\n",
              "      <td>0</td>\n",
              "      <td>0</td>\n",
              "      <td>0</td>\n",
              "      <td>0</td>\n",
              "      <td>22</td>\n",
              "      <td>102.334588</td>\n",
              "      <td>8</td>\n",
              "      <td>0</td>\n",
              "      <td>0</td>\n",
              "      <td>0</td>\n",
              "    </tr>\n",
              "    <tr>\n",
              "      <th>1</th>\n",
              "      <td>NaN</td>\n",
              "      <td>NaN</td>\n",
              "      <td>NaN</td>\n",
              "      <td>NaN</td>\n",
              "      <td>NaN</td>\n",
              "      <td>2</td>\n",
              "      <td>0</td>\n",
              "      <td>0</td>\n",
              "      <td>0</td>\n",
              "      <td>0</td>\n",
              "      <td>0</td>\n",
              "      <td>457.914000</td>\n",
              "      <td>0</td>\n",
              "      <td>0</td>\n",
              "      <td>0</td>\n",
              "      <td>0</td>\n",
              "    </tr>\n",
              "    <tr>\n",
              "      <th>2</th>\n",
              "      <td>NaN</td>\n",
              "      <td>NaN</td>\n",
              "      <td>NaN</td>\n",
              "      <td>NaN</td>\n",
              "      <td>NaN</td>\n",
              "      <td>2</td>\n",
              "      <td>0</td>\n",
              "      <td>0</td>\n",
              "      <td>0</td>\n",
              "      <td>0</td>\n",
              "      <td>0</td>\n",
              "      <td>331.441000</td>\n",
              "      <td>0</td>\n",
              "      <td>0</td>\n",
              "      <td>0</td>\n",
              "      <td>0</td>\n",
              "    </tr>\n",
              "    <tr>\n",
              "      <th>3</th>\n",
              "      <td>NaN</td>\n",
              "      <td>NaN</td>\n",
              "      <td>NaN</td>\n",
              "      <td>NaN</td>\n",
              "      <td>NaN</td>\n",
              "      <td>3</td>\n",
              "      <td>0</td>\n",
              "      <td>0</td>\n",
              "      <td>0</td>\n",
              "      <td>0</td>\n",
              "      <td>0</td>\n",
              "      <td>420.018555</td>\n",
              "      <td>84</td>\n",
              "      <td>1125</td>\n",
              "      <td>3130</td>\n",
              "      <td>4255</td>\n",
              "    </tr>\n",
              "    <tr>\n",
              "      <th>4</th>\n",
              "      <td>NaN</td>\n",
              "      <td>NaN</td>\n",
              "      <td>NaN</td>\n",
              "      <td>NaN</td>\n",
              "      <td>NaN</td>\n",
              "      <td>3</td>\n",
              "      <td>0</td>\n",
              "      <td>0</td>\n",
              "      <td>0</td>\n",
              "      <td>0</td>\n",
              "      <td>1610</td>\n",
              "      <td>747.546000</td>\n",
              "      <td>0</td>\n",
              "      <td>1875</td>\n",
              "      <td>6525</td>\n",
              "      <td>8400</td>\n",
              "    </tr>\n",
              "    <tr>\n",
              "      <th>...</th>\n",
              "      <td>...</td>\n",
              "      <td>...</td>\n",
              "      <td>...</td>\n",
              "      <td>...</td>\n",
              "      <td>...</td>\n",
              "      <td>...</td>\n",
              "      <td>...</td>\n",
              "      <td>...</td>\n",
              "      <td>...</td>\n",
              "      <td>...</td>\n",
              "      <td>...</td>\n",
              "      <td>...</td>\n",
              "      <td>...</td>\n",
              "      <td>...</td>\n",
              "      <td>...</td>\n",
              "      <td>...</td>\n",
              "    </tr>\n",
              "    <tr>\n",
              "      <th>131070</th>\n",
              "      <td>NaN</td>\n",
              "      <td>NaN</td>\n",
              "      <td>NaN</td>\n",
              "      <td>NaN</td>\n",
              "      <td>NaN</td>\n",
              "      <td>1</td>\n",
              "      <td>0</td>\n",
              "      <td>0</td>\n",
              "      <td>0</td>\n",
              "      <td>0</td>\n",
              "      <td>0</td>\n",
              "      <td>0.000000</td>\n",
              "      <td>80</td>\n",
              "      <td>0</td>\n",
              "      <td>0</td>\n",
              "      <td>0</td>\n",
              "    </tr>\n",
              "    <tr>\n",
              "      <th>131071</th>\n",
              "      <td>NaN</td>\n",
              "      <td>NaN</td>\n",
              "      <td>NaN</td>\n",
              "      <td>NaN</td>\n",
              "      <td>NaN</td>\n",
              "      <td>1</td>\n",
              "      <td>0</td>\n",
              "      <td>49093</td>\n",
              "      <td>57385</td>\n",
              "      <td>106478</td>\n",
              "      <td>0</td>\n",
              "      <td>0.000000</td>\n",
              "      <td>0</td>\n",
              "      <td>0</td>\n",
              "      <td>0</td>\n",
              "      <td>0</td>\n",
              "    </tr>\n",
              "    <tr>\n",
              "      <th>131072</th>\n",
              "      <td>NaN</td>\n",
              "      <td>NaN</td>\n",
              "      <td>NaN</td>\n",
              "      <td>NaN</td>\n",
              "      <td>NaN</td>\n",
              "      <td>2</td>\n",
              "      <td>0</td>\n",
              "      <td>0</td>\n",
              "      <td>0</td>\n",
              "      <td>0</td>\n",
              "      <td>0</td>\n",
              "      <td>186.315051</td>\n",
              "      <td>67</td>\n",
              "      <td>0</td>\n",
              "      <td>4944</td>\n",
              "      <td>4944</td>\n",
              "    </tr>\n",
              "    <tr>\n",
              "      <th>131073</th>\n",
              "      <td>NaN</td>\n",
              "      <td>NaN</td>\n",
              "      <td>NaN</td>\n",
              "      <td>NaN</td>\n",
              "      <td>NaN</td>\n",
              "      <td>1</td>\n",
              "      <td>0</td>\n",
              "      <td>67352</td>\n",
              "      <td>0</td>\n",
              "      <td>67352</td>\n",
              "      <td>0</td>\n",
              "      <td>0.000000</td>\n",
              "      <td>0</td>\n",
              "      <td>0</td>\n",
              "      <td>0</td>\n",
              "      <td>0</td>\n",
              "    </tr>\n",
              "    <tr>\n",
              "      <th>131074</th>\n",
              "      <td>NaN</td>\n",
              "      <td>NaN</td>\n",
              "      <td>NaN</td>\n",
              "      <td>NaN</td>\n",
              "      <td>NaN</td>\n",
              "      <td>22</td>\n",
              "      <td>0</td>\n",
              "      <td>0</td>\n",
              "      <td>0</td>\n",
              "      <td>0</td>\n",
              "      <td>0</td>\n",
              "      <td>0.000000</td>\n",
              "      <td>0</td>\n",
              "      <td>1125</td>\n",
              "      <td>0</td>\n",
              "      <td>1125</td>\n",
              "    </tr>\n",
              "  </tbody>\n",
              "</table>\n",
              "<p>131075 rows × 16 columns</p>\n",
              "</div>\n",
              "    <div class=\"colab-df-buttons\">\n",
              "\n",
              "  <div class=\"colab-df-container\">\n",
              "    <button class=\"colab-df-convert\" onclick=\"convertToInteractive('df-db7e6c3f-bde9-4732-811a-a9aa0aed97f6')\"\n",
              "            title=\"Convert this dataframe to an interactive table.\"\n",
              "            style=\"display:none;\">\n",
              "\n",
              "  <svg xmlns=\"http://www.w3.org/2000/svg\" height=\"24px\" viewBox=\"0 -960 960 960\">\n",
              "    <path d=\"M120-120v-720h720v720H120Zm60-500h600v-160H180v160Zm220 220h160v-160H400v160Zm0 220h160v-160H400v160ZM180-400h160v-160H180v160Zm440 0h160v-160H620v160ZM180-180h160v-160H180v160Zm440 0h160v-160H620v160Z\"/>\n",
              "  </svg>\n",
              "    </button>\n",
              "\n",
              "  <style>\n",
              "    .colab-df-container {\n",
              "      display:flex;\n",
              "      gap: 12px;\n",
              "    }\n",
              "\n",
              "    .colab-df-convert {\n",
              "      background-color: #E8F0FE;\n",
              "      border: none;\n",
              "      border-radius: 50%;\n",
              "      cursor: pointer;\n",
              "      display: none;\n",
              "      fill: #1967D2;\n",
              "      height: 32px;\n",
              "      padding: 0 0 0 0;\n",
              "      width: 32px;\n",
              "    }\n",
              "\n",
              "    .colab-df-convert:hover {\n",
              "      background-color: #E2EBFA;\n",
              "      box-shadow: 0px 1px 2px rgba(60, 64, 67, 0.3), 0px 1px 3px 1px rgba(60, 64, 67, 0.15);\n",
              "      fill: #174EA6;\n",
              "    }\n",
              "\n",
              "    .colab-df-buttons div {\n",
              "      margin-bottom: 4px;\n",
              "    }\n",
              "\n",
              "    [theme=dark] .colab-df-convert {\n",
              "      background-color: #3B4455;\n",
              "      fill: #D2E3FC;\n",
              "    }\n",
              "\n",
              "    [theme=dark] .colab-df-convert:hover {\n",
              "      background-color: #434B5C;\n",
              "      box-shadow: 0px 1px 3px 1px rgba(0, 0, 0, 0.15);\n",
              "      filter: drop-shadow(0px 1px 2px rgba(0, 0, 0, 0.3));\n",
              "      fill: #FFFFFF;\n",
              "    }\n",
              "  </style>\n",
              "\n",
              "    <script>\n",
              "      const buttonEl =\n",
              "        document.querySelector('#df-db7e6c3f-bde9-4732-811a-a9aa0aed97f6 button.colab-df-convert');\n",
              "      buttonEl.style.display =\n",
              "        google.colab.kernel.accessAllowed ? 'block' : 'none';\n",
              "\n",
              "      async function convertToInteractive(key) {\n",
              "        const element = document.querySelector('#df-db7e6c3f-bde9-4732-811a-a9aa0aed97f6');\n",
              "        const dataTable =\n",
              "          await google.colab.kernel.invokeFunction('convertToInteractive',\n",
              "                                                    [key], {});\n",
              "        if (!dataTable) return;\n",
              "\n",
              "        const docLinkHtml = 'Like what you see? Visit the ' +\n",
              "          '<a target=\"_blank\" href=https://colab.research.google.com/notebooks/data_table.ipynb>data table notebook</a>'\n",
              "          + ' to learn more about interactive tables.';\n",
              "        element.innerHTML = '';\n",
              "        dataTable['output_type'] = 'display_data';\n",
              "        await google.colab.output.renderOutput(dataTable, element);\n",
              "        const docLink = document.createElement('div');\n",
              "        docLink.innerHTML = docLinkHtml;\n",
              "        element.appendChild(docLink);\n",
              "      }\n",
              "    </script>\n",
              "  </div>\n",
              "\n",
              "\n",
              "<div id=\"df-6f18310c-67b0-4777-b236-2149c05f5bd4\">\n",
              "  <button class=\"colab-df-quickchart\" onclick=\"quickchart('df-6f18310c-67b0-4777-b236-2149c05f5bd4')\"\n",
              "            title=\"Suggest charts\"\n",
              "            style=\"display:none;\">\n",
              "\n",
              "<svg xmlns=\"http://www.w3.org/2000/svg\" height=\"24px\"viewBox=\"0 0 24 24\"\n",
              "     width=\"24px\">\n",
              "    <g>\n",
              "        <path d=\"M19 3H5c-1.1 0-2 .9-2 2v14c0 1.1.9 2 2 2h14c1.1 0 2-.9 2-2V5c0-1.1-.9-2-2-2zM9 17H7v-7h2v7zm4 0h-2V7h2v10zm4 0h-2v-4h2v4z\"/>\n",
              "    </g>\n",
              "</svg>\n",
              "  </button>\n",
              "\n",
              "<style>\n",
              "  .colab-df-quickchart {\n",
              "      --bg-color: #E8F0FE;\n",
              "      --fill-color: #1967D2;\n",
              "      --hover-bg-color: #E2EBFA;\n",
              "      --hover-fill-color: #174EA6;\n",
              "      --disabled-fill-color: #AAA;\n",
              "      --disabled-bg-color: #DDD;\n",
              "  }\n",
              "\n",
              "  [theme=dark] .colab-df-quickchart {\n",
              "      --bg-color: #3B4455;\n",
              "      --fill-color: #D2E3FC;\n",
              "      --hover-bg-color: #434B5C;\n",
              "      --hover-fill-color: #FFFFFF;\n",
              "      --disabled-bg-color: #3B4455;\n",
              "      --disabled-fill-color: #666;\n",
              "  }\n",
              "\n",
              "  .colab-df-quickchart {\n",
              "    background-color: var(--bg-color);\n",
              "    border: none;\n",
              "    border-radius: 50%;\n",
              "    cursor: pointer;\n",
              "    display: none;\n",
              "    fill: var(--fill-color);\n",
              "    height: 32px;\n",
              "    padding: 0;\n",
              "    width: 32px;\n",
              "  }\n",
              "\n",
              "  .colab-df-quickchart:hover {\n",
              "    background-color: var(--hover-bg-color);\n",
              "    box-shadow: 0 1px 2px rgba(60, 64, 67, 0.3), 0 1px 3px 1px rgba(60, 64, 67, 0.15);\n",
              "    fill: var(--button-hover-fill-color);\n",
              "  }\n",
              "\n",
              "  .colab-df-quickchart-complete:disabled,\n",
              "  .colab-df-quickchart-complete:disabled:hover {\n",
              "    background-color: var(--disabled-bg-color);\n",
              "    fill: var(--disabled-fill-color);\n",
              "    box-shadow: none;\n",
              "  }\n",
              "\n",
              "  .colab-df-spinner {\n",
              "    border: 2px solid var(--fill-color);\n",
              "    border-color: transparent;\n",
              "    border-bottom-color: var(--fill-color);\n",
              "    animation:\n",
              "      spin 1s steps(1) infinite;\n",
              "  }\n",
              "\n",
              "  @keyframes spin {\n",
              "    0% {\n",
              "      border-color: transparent;\n",
              "      border-bottom-color: var(--fill-color);\n",
              "      border-left-color: var(--fill-color);\n",
              "    }\n",
              "    20% {\n",
              "      border-color: transparent;\n",
              "      border-left-color: var(--fill-color);\n",
              "      border-top-color: var(--fill-color);\n",
              "    }\n",
              "    30% {\n",
              "      border-color: transparent;\n",
              "      border-left-color: var(--fill-color);\n",
              "      border-top-color: var(--fill-color);\n",
              "      border-right-color: var(--fill-color);\n",
              "    }\n",
              "    40% {\n",
              "      border-color: transparent;\n",
              "      border-right-color: var(--fill-color);\n",
              "      border-top-color: var(--fill-color);\n",
              "    }\n",
              "    60% {\n",
              "      border-color: transparent;\n",
              "      border-right-color: var(--fill-color);\n",
              "    }\n",
              "    80% {\n",
              "      border-color: transparent;\n",
              "      border-right-color: var(--fill-color);\n",
              "      border-bottom-color: var(--fill-color);\n",
              "    }\n",
              "    90% {\n",
              "      border-color: transparent;\n",
              "      border-bottom-color: var(--fill-color);\n",
              "    }\n",
              "  }\n",
              "</style>\n",
              "\n",
              "  <script>\n",
              "    async function quickchart(key) {\n",
              "      const quickchartButtonEl =\n",
              "        document.querySelector('#' + key + ' button');\n",
              "      quickchartButtonEl.disabled = true;  // To prevent multiple clicks.\n",
              "      quickchartButtonEl.classList.add('colab-df-spinner');\n",
              "      try {\n",
              "        const charts = await google.colab.kernel.invokeFunction(\n",
              "            'suggestCharts', [key], {});\n",
              "      } catch (error) {\n",
              "        console.error('Error during call to suggestCharts:', error);\n",
              "      }\n",
              "      quickchartButtonEl.classList.remove('colab-df-spinner');\n",
              "      quickchartButtonEl.classList.add('colab-df-quickchart-complete');\n",
              "    }\n",
              "    (() => {\n",
              "      let quickchartButtonEl =\n",
              "        document.querySelector('#df-6f18310c-67b0-4777-b236-2149c05f5bd4 button');\n",
              "      quickchartButtonEl.style.display =\n",
              "        google.colab.kernel.accessAllowed ? 'block' : 'none';\n",
              "    })();\n",
              "  </script>\n",
              "</div>\n",
              "    </div>\n",
              "  </div>\n"
            ]
          },
          "metadata": {},
          "execution_count": 7
        }
      ]
    },
    {
      "cell_type": "code",
      "source": [
        "# Define X (features) and y (target)\n",
        "\n",
        "X = data[['Package_duration', 'voice_local_duration', 'Used_data_GB' , 'extraGB_amount' , 'peo_TV_charge']]\n",
        "y = data[ 'CATOGORY']\n",
        "X_train, X_test, y_train, y_test = train_test_split(X, y, test_size=0.2, random_state=42)"
      ],
      "metadata": {
        "id": "7Y_vMh1_GgYU"
      },
      "execution_count": null,
      "outputs": []
    },
    {
      "cell_type": "markdown",
      "source": [
        "**Step 4: Build and Train the Random Forest Model**"
      ],
      "metadata": {
        "id": "T1Yi1C1xHu6V"
      }
    },
    {
      "cell_type": "code",
      "source": [
        "# Create a Random Forest Classifier\n",
        "clf = RandomForestClassifier(n_estimators=100, random_state=42)\n",
        "\n",
        "# Train the model on the training data\n",
        "clf.fit(X_train, y_train)\n"
      ],
      "metadata": {
        "id": "lxDXzNHnGgyc",
        "colab": {
          "base_uri": "https://localhost:8080/",
          "height": 74
        },
        "outputId": "d759df5a-1eae-4f33-a8a3-250261d12c3c"
      },
      "execution_count": null,
      "outputs": [
        {
          "output_type": "execute_result",
          "data": {
            "text/plain": [
              "RandomForestClassifier(random_state=42)"
            ],
            "text/html": [
              "<style>#sk-container-id-1 {color: black;background-color: white;}#sk-container-id-1 pre{padding: 0;}#sk-container-id-1 div.sk-toggleable {background-color: white;}#sk-container-id-1 label.sk-toggleable__label {cursor: pointer;display: block;width: 100%;margin-bottom: 0;padding: 0.3em;box-sizing: border-box;text-align: center;}#sk-container-id-1 label.sk-toggleable__label-arrow:before {content: \"▸\";float: left;margin-right: 0.25em;color: #696969;}#sk-container-id-1 label.sk-toggleable__label-arrow:hover:before {color: black;}#sk-container-id-1 div.sk-estimator:hover label.sk-toggleable__label-arrow:before {color: black;}#sk-container-id-1 div.sk-toggleable__content {max-height: 0;max-width: 0;overflow: hidden;text-align: left;background-color: #f0f8ff;}#sk-container-id-1 div.sk-toggleable__content pre {margin: 0.2em;color: black;border-radius: 0.25em;background-color: #f0f8ff;}#sk-container-id-1 input.sk-toggleable__control:checked~div.sk-toggleable__content {max-height: 200px;max-width: 100%;overflow: auto;}#sk-container-id-1 input.sk-toggleable__control:checked~label.sk-toggleable__label-arrow:before {content: \"▾\";}#sk-container-id-1 div.sk-estimator input.sk-toggleable__control:checked~label.sk-toggleable__label {background-color: #d4ebff;}#sk-container-id-1 div.sk-label input.sk-toggleable__control:checked~label.sk-toggleable__label {background-color: #d4ebff;}#sk-container-id-1 input.sk-hidden--visually {border: 0;clip: rect(1px 1px 1px 1px);clip: rect(1px, 1px, 1px, 1px);height: 1px;margin: -1px;overflow: hidden;padding: 0;position: absolute;width: 1px;}#sk-container-id-1 div.sk-estimator {font-family: monospace;background-color: #f0f8ff;border: 1px dotted black;border-radius: 0.25em;box-sizing: border-box;margin-bottom: 0.5em;}#sk-container-id-1 div.sk-estimator:hover {background-color: #d4ebff;}#sk-container-id-1 div.sk-parallel-item::after {content: \"\";width: 100%;border-bottom: 1px solid gray;flex-grow: 1;}#sk-container-id-1 div.sk-label:hover label.sk-toggleable__label {background-color: #d4ebff;}#sk-container-id-1 div.sk-serial::before {content: \"\";position: absolute;border-left: 1px solid gray;box-sizing: border-box;top: 0;bottom: 0;left: 50%;z-index: 0;}#sk-container-id-1 div.sk-serial {display: flex;flex-direction: column;align-items: center;background-color: white;padding-right: 0.2em;padding-left: 0.2em;position: relative;}#sk-container-id-1 div.sk-item {position: relative;z-index: 1;}#sk-container-id-1 div.sk-parallel {display: flex;align-items: stretch;justify-content: center;background-color: white;position: relative;}#sk-container-id-1 div.sk-item::before, #sk-container-id-1 div.sk-parallel-item::before {content: \"\";position: absolute;border-left: 1px solid gray;box-sizing: border-box;top: 0;bottom: 0;left: 50%;z-index: -1;}#sk-container-id-1 div.sk-parallel-item {display: flex;flex-direction: column;z-index: 1;position: relative;background-color: white;}#sk-container-id-1 div.sk-parallel-item:first-child::after {align-self: flex-end;width: 50%;}#sk-container-id-1 div.sk-parallel-item:last-child::after {align-self: flex-start;width: 50%;}#sk-container-id-1 div.sk-parallel-item:only-child::after {width: 0;}#sk-container-id-1 div.sk-dashed-wrapped {border: 1px dashed gray;margin: 0 0.4em 0.5em 0.4em;box-sizing: border-box;padding-bottom: 0.4em;background-color: white;}#sk-container-id-1 div.sk-label label {font-family: monospace;font-weight: bold;display: inline-block;line-height: 1.2em;}#sk-container-id-1 div.sk-label-container {text-align: center;}#sk-container-id-1 div.sk-container {/* jupyter's `normalize.less` sets `[hidden] { display: none; }` but bootstrap.min.css set `[hidden] { display: none !important; }` so we also need the `!important` here to be able to override the default hidden behavior on the sphinx rendered scikit-learn.org. See: https://github.com/scikit-learn/scikit-learn/issues/21755 */display: inline-block !important;position: relative;}#sk-container-id-1 div.sk-text-repr-fallback {display: none;}</style><div id=\"sk-container-id-1\" class=\"sk-top-container\"><div class=\"sk-text-repr-fallback\"><pre>RandomForestClassifier(random_state=42)</pre><b>In a Jupyter environment, please rerun this cell to show the HTML representation or trust the notebook. <br />On GitHub, the HTML representation is unable to render, please try loading this page with nbviewer.org.</b></div><div class=\"sk-container\" hidden><div class=\"sk-item\"><div class=\"sk-estimator sk-toggleable\"><input class=\"sk-toggleable__control sk-hidden--visually\" id=\"sk-estimator-id-1\" type=\"checkbox\" checked><label for=\"sk-estimator-id-1\" class=\"sk-toggleable__label sk-toggleable__label-arrow\">RandomForestClassifier</label><div class=\"sk-toggleable__content\"><pre>RandomForestClassifier(random_state=42)</pre></div></div></div></div></div>"
            ]
          },
          "metadata": {},
          "execution_count": 9
        }
      ]
    },
    {
      "cell_type": "markdown",
      "source": [
        "**Step 5: Make Predictions**"
      ],
      "metadata": {
        "id": "uHwIRQVTHvq7"
      }
    },
    {
      "cell_type": "code",
      "source": [
        "# Make predictions on the testing data\n",
        "y_pred = clf.predict(X_test)\n"
      ],
      "metadata": {
        "id": "nA49yIFNHJME"
      },
      "execution_count": null,
      "outputs": []
    },
    {
      "cell_type": "markdown",
      "source": [
        "**Step 6: Evaluate Model Performance**"
      ],
      "metadata": {
        "id": "vkXAN1eFHwY2"
      }
    },
    {
      "cell_type": "code",
      "source": [
        "# Evaluate the model's accuracy\n",
        "accuracy = accuracy_score(y_test, y_pred)\n",
        "print(f'Accuracy: {accuracy:.2f}')\n",
        "\n",
        "# Generate a classification report\n",
        "report = classification_report(y_test, y_pred)\n",
        "print(report)\n",
        "\n",
        "# Create a confusion matrix\n",
        "conf_matrix = confusion_matrix(y_test, y_pred)\n",
        "print(conf_matrix)\n"
      ],
      "metadata": {
        "id": "iLNgXd3eHK92",
        "colab": {
          "base_uri": "https://localhost:8080/"
        },
        "outputId": "476abaad-bac8-48ea-9c44-d7175b3deb29"
      },
      "execution_count": null,
      "outputs": [
        {
          "output_type": "stream",
          "name": "stdout",
          "text": [
            "Accuracy: 0.86\n",
            "              precision    recall  f1-score   support\n",
            "\n",
            "           1       0.89      0.89      0.89      7824\n",
            "           2       0.90      0.88      0.89      8027\n",
            "           3       0.79      0.81      0.80      5104\n",
            "          22       0.81      0.82      0.81      5260\n",
            "\n",
            "    accuracy                           0.86     26215\n",
            "   macro avg       0.85      0.85      0.85     26215\n",
            "weighted avg       0.86      0.86      0.86     26215\n",
            "\n",
            "[[6948  250  109  517]\n",
            " [ 327 7069  538   93]\n",
            " [ 122  425 4129  428]\n",
            " [ 423   87  435 4315]]\n"
          ]
        }
      ]
    },
    {
      "cell_type": "code",
      "source": [
        "from sklearn.metrics import r2_score\n",
        "from sklearn.metrics import mean_squared_error\n",
        "from sklearn.metrics import precision_score, f1_score\n",
        "from sklearn.metrics import recall_score\n"
      ],
      "metadata": {
        "id": "Ux7Decf5D5ll"
      },
      "execution_count": null,
      "outputs": []
    },
    {
      "cell_type": "code",
      "source": [
        "r2 = r2_score(y_test, y_pred)\n",
        "mse = mean_squared_error(y_test, y_pred)\n",
        "\n",
        "precision = precision_score(y_test, y_pred, average='weighted')\n",
        "f1 = f1_score(y_test, y_pred, average='weighted')\n",
        "recall = recall_score(y_test, y_pred, average='weighted')\n",
        "\n",
        "print('F1 score:', f1)\n",
        "print('Precision:', precision)\n",
        "print(f'Recall: {recall}')\n",
        "print('R^2:', r2)\n",
        "print('MSE:', mse)"
      ],
      "metadata": {
        "id": "dCbwobsUD2N4",
        "outputId": "d90f4b17-5e2e-413d-8342-1a5a20a36e02",
        "colab": {
          "base_uri": "https://localhost:8080/"
        }
      },
      "execution_count": null,
      "outputs": [
        {
          "output_type": "stream",
          "name": "stdout",
          "text": [
            "F1 score: 0.8571239529493825\n",
            "Precision: 0.8575904226290183\n",
            "Recall: 0.8567995422468052\n",
            "R^2: 0.5335655551708527\n",
            "MSE: 30.537745565515927\n"
          ]
        }
      ]
    },
    {
      "cell_type": "code",
      "source": [
        "residual_error = y_test - y_pred\n",
        "print(residual_error)"
      ],
      "metadata": {
        "id": "FnLcspfnYO3X",
        "colab": {
          "base_uri": "https://localhost:8080/"
        },
        "outputId": "0b3e63f8-a260-4dc2-c339-a8f8fbcb8127"
      },
      "execution_count": null,
      "outputs": [
        {
          "output_type": "stream",
          "name": "stdout",
          "text": [
            "5794     -1\n",
            "109075    0\n",
            "93613    -2\n",
            "75343     0\n",
            "129430    0\n",
            "         ..\n",
            "89503     0\n",
            "82026     0\n",
            "98593     0\n",
            "107744    0\n",
            "105838    0\n",
            "Name: CATOGORY, Length: 26215, dtype: int64\n"
          ]
        }
      ]
    },
    {
      "cell_type": "code",
      "source": [
        "import matplotlib.pyplot as plt\n",
        "\n",
        "plt.plot(X_test, residual_error)\n",
        "plt.xlabel('Independent variable')\n",
        "plt.ylabel('Residual error')\n",
        "plt.axhline(0, color='black')\n",
        "plt.title('Residual plot')\n",
        "plt.show()"
      ],
      "metadata": {
        "id": "C35zEXbUXvf5",
        "outputId": "e8c1102b-af2a-4d09-fbe7-e7f778e5a401",
        "colab": {
          "base_uri": "https://localhost:8080/",
          "height": 472
        }
      },
      "execution_count": null,
      "outputs": [
        {
          "output_type": "display_data",
          "data": {
            "text/plain": [
              "<Figure size 640x480 with 1 Axes>"
            ],
            "image/png": "[encoded data removed]"
          },
          "metadata": {}
        }
      ]
    },
    {
      "cell_type": "code",
      "source": [
        "import numpy as np\n",
        "from sklearn.model_selection import learning_curve\n",
        "import matplotlib.pyplot as plt\n",
        "\n",
        "# Learning Curve\n",
        "train_sizes, train_scores, test_scores = learning_curve(clf, X_train, y_train, cv=5, scoring='accuracy', n_jobs=-1)\n",
        "\n",
        "train_mean = np.mean(train_scores, axis=1)\n",
        "train_std = np.std(train_scores, axis=1)\n",
        "test_mean = np.mean(test_scores, axis=1)\n",
        "test_std = np.std(test_scores, axis=1)\n",
        "\n",
        "plt.figure(figsize=(10, 6))\n",
        "plt.plot(train_sizes, train_mean, color='blue', marker='o', markersize=5, label='Training Accuracy')\n",
        "plt.fill_between(train_sizes, train_mean - train_std, train_mean + train_std, alpha=0.15, color='blue')\n",
        "\n",
        "plt.plot(train_sizes, test_mean, color='green', linestyle='--', marker='s', markersize=5, label='Validation Accuracy')\n",
        "plt.fill_between(train_sizes, test_mean - test_std, test_mean + test_std, alpha=0.15, color='green')\n",
        "\n",
        "plt.xlabel('Number of Training Samples')\n",
        "plt.ylabel('Accuracy')\n",
        "plt.title('Learning Curve')\n",
        "plt.legend()\n",
        "plt.show()"
      ],
      "metadata": {
        "colab": {
          "base_uri": "https://localhost:8080/",
          "height": 564
        },
        "id": "SR1TZJXbaKib",
        "outputId": "7d3407a4-7db5-44c4-e01c-a3e937c29234"
      },
      "execution_count": null,
      "outputs": [
        {
          "output_type": "display_data",
          "data": {
            "text/plain": [
              "<Figure size 1000x600 with 1 Axes>"
            ],
            "image/png": "[encoded data removed]"
          },
          "metadata": {}
        }
      ]
    },
    {
      "cell_type": "markdown",
      "source": [
        "**Regularization**"
      ],
      "metadata": {
        "id": "aPjksPb3l0qe"
      }
    },
    {
      "cell_type": "code",
      "source": [
        "from sklearn.ensemble import RandomForestClassifier\n",
        "from sklearn.model_selection import train_test_split\n",
        "from sklearn.metrics import accuracy_score\n",
        "\n",
        "# Assuming X_train, X_test, y_train, y_test are defined\n",
        "\n",
        "# Create a Random Forest Classifier with regularization (adjust alpha)\n",
        "clf_regularized = RandomForestClassifier(n_estimators=100, random_state=42, min_samples_split=5, min_samples_leaf=2, max_depth=10)\n",
        "\n",
        "# Train the regularized model on the training data\n",
        "clf_regularized.fit(X_train, y_train)\n",
        "\n",
        "# Make predictions on the testing data\n",
        "y_pred_regularized = clf_regularized.predict(X_test)\n",
        "\n",
        "# Evaluate the regularized model's accuracy\n",
        "accuracy_regularized = accuracy_score(y_test, y_pred_regularized)\n",
        "print(f'Regularized Model Accuracy: {accuracy_regularized:.2f}')\n"
      ],
      "metadata": {
        "colab": {
          "base_uri": "https://localhost:8080/"
        },
        "id": "nGjpV42wltrX",
        "outputId": "60e69392-a014-4470-e446-0b06bf9c29c7"
      },
      "execution_count": null,
      "outputs": [
        {
          "output_type": "stream",
          "name": "stdout",
          "text": [
            "Regularized Model Accuracy: 0.87\n"
          ]
        }
      ]
    },
    {
      "cell_type": "code",
      "source": [
        "from sklearn.metrics import precision_score, recall_score, f1_score, classification_report, confusion_matrix\n",
        "\n",
        "# Assuming X_train, X_test, y_train, y_test are defined\n",
        "\n",
        "# Create a Random Forest Classifier with regularization\n",
        "clf_regularized = RandomForestClassifier(n_estimators=100, random_state=42, min_samples_split=5, min_samples_leaf=2, max_depth=10)\n",
        "\n",
        "# Train the regularized model on the training data\n",
        "clf_regularized.fit(X_train, y_train)\n",
        "\n",
        "# Make predictions on the testing data\n",
        "y_pred_regularized = clf_regularized.predict(X_test)\n",
        "\n",
        "# Evaluate the regularized model's accuracy\n",
        "accuracy_regularized = accuracy_score(y_test, y_pred_regularized)\n",
        "print(f'Regularized Model Accuracy: {accuracy_regularized:.2f}')\n",
        "\n",
        "# Calculate precision, recall, and F1-score\n",
        "precision = precision_score(y_test, y_pred_regularized, average='weighted')\n",
        "recall = recall_score(y_test, y_pred_regularized, average='weighted')\n",
        "f1 = f1_score(y_test, y_pred_regularized, average='weighted')\n",
        "\n",
        "print(f'Precision: {precision:.2f}')\n",
        "print(f'Recall: {recall:.2f}')\n",
        "print(f'F1-score: {f1:.2f}')\n",
        "\n",
        "# Generate a classification report\n",
        "report = classification_report(y_test, y_pred_regularized)\n",
        "print(report)\n",
        "\n",
        "# Create a confusion matrix\n",
        "conf_matrix = confusion_matrix(y_test, y_pred_regularized)\n",
        "print(conf_matrix)"
      ],
      "metadata": {
        "colab": {
          "base_uri": "https://localhost:8080/"
        },
        "id": "zNiNQyTrsSf2",
        "outputId": "c5356af2-2f39-4cde-8094-3cf8cdc109f0"
      },
      "execution_count": null,
      "outputs": [
        {
          "output_type": "stream",
          "name": "stdout",
          "text": [
            "Regularized Model Accuracy: 0.87\n",
            "Precision: 0.87\n",
            "Recall: 0.87\n",
            "F1-score: 0.87\n",
            "              precision    recall  f1-score   support\n",
            "\n",
            "           1       0.90      0.88      0.89      7824\n",
            "           2       0.93      0.88      0.90      8027\n",
            "           3       0.82      0.83      0.82      5104\n",
            "          22       0.79      0.88      0.83      5260\n",
            "\n",
            "    accuracy                           0.87     26215\n",
            "   macro avg       0.86      0.86      0.86     26215\n",
            "weighted avg       0.87      0.87      0.87     26215\n",
            "\n",
            "[[6873  212   59  680]\n",
            " [ 340 7031  586   70]\n",
            " [ 102  295 4212  495]\n",
            " [ 291   56  285 4628]]\n"
          ]
        }
      ]
    },
    {
      "cell_type": "code",
      "source": [
        "from sklearn.model_selection import learning_curve\n",
        "import numpy as np\n",
        "import matplotlib.pyplot as plt\n",
        "\n",
        "# Assuming X_train, X_test, y_train, y_test are defined\n",
        "\n",
        "# Create a Random Forest Classifier with regularization\n",
        "clf_regularized = RandomForestClassifier(n_estimators=100, random_state=42, min_samples_split=5, min_samples_leaf=2, max_depth=10)\n",
        "\n",
        "# Get the learning curve\n",
        "train_sizes, train_scores, test_scores = learning_curve(clf_regularized, X_train, y_train, cv=5, scoring='accuracy', n_jobs=-1)\n",
        "\n",
        "# Calculate mean and standard deviation for training and test sets\n",
        "train_mean = np.mean(train_scores, axis=1)\n",
        "train_std = np.std(train_scores, axis=1)\n",
        "test_mean = np.mean(test_scores, axis=1)\n",
        "test_std = np.std(test_scores, axis=1)\n",
        "\n",
        "# Plot learning curve\n",
        "plt.figure(figsize=(10, 6))\n",
        "plt.plot(train_sizes, train_mean, color='blue', marker='o', markersize=5, label='Training Accuracy')\n",
        "plt.fill_between(train_sizes, train_mean - train_std, train_mean + train_std, alpha=0.15, color='blue')\n",
        "\n",
        "plt.plot(train_sizes, test_mean, color='green', linestyle='--', marker='s', markersize=5, label='Validation Accuracy')\n",
        "plt.fill_between(train_sizes, test_mean - test_std, test_mean + test_std, alpha=0.15, color='green')\n",
        "\n",
        "plt.xlabel('Number of Training Samples')\n",
        "plt.ylabel('Accuracy')\n",
        "plt.title('Learning Curve (Regularized Random Forest)')\n",
        "plt.legend()\n",
        "plt.show()"
      ],
      "metadata": {
        "colab": {
          "base_uri": "https://localhost:8080/",
          "height": 564
        },
        "id": "ZMbyyOF1l_qd",
        "outputId": "2f531f42-a0a1-4cc0-98ff-3ae6353a0de2"
      },
      "execution_count": null,
      "outputs": [
        {
          "output_type": "display_data",
          "data": {
            "text/plain": [
              "<Figure size 1000x600 with 1 Axes>"
            ],
            "image/png": "[encoded data removed]"
          },
          "metadata": {}
        }
      ]
    },
    {
      "cell_type": "code",
      "source": [
        "from sklearn.ensemble import RandomForestClassifier\n",
        "from sklearn.model_selection import train_test_split, cross_val_score, KFold\n",
        "from sklearn.metrics import accuracy_score\n",
        "import numpy as np\n",
        "\n",
        "# Assuming X_train, X_test, y_train, y_test are defined\n",
        "\n",
        "# Create a Random Forest Classifier with regularization\n",
        "clf_regularized = RandomForestClassifier(n_estimators=100, random_state=42, min_samples_split=5, min_samples_leaf=2, max_depth=10)\n",
        "\n",
        "# Train the regularized model on the training data\n",
        "clf_regularized.fit(X_train, y_train)\n",
        "\n",
        "# Make predictions on the testing data\n",
        "y_pred_regularized = clf_regularized.predict(X_test)\n",
        "\n",
        "# Evaluate the regularized model's accuracy on the test set\n",
        "accuracy_regularized = accuracy_score(y_test, y_pred_regularized)\n",
        "print(f'Regularized Model Accuracy on Test Set: {accuracy_regularized:.2f}')\n",
        "\n",
        "# Cross-Validation Scores\n",
        "cv = KFold(n_splits=5, shuffle=True, random_state=42)  # Adjust n_splits and other parameters as needed\n",
        "cross_val_scores = cross_val_score(clf_regularized, X_train, y_train, cv=cv, scoring='accuracy')\n",
        "\n",
        "# Calculate Mean and Standard Deviation of Cross-Validation Scores\n",
        "mean_cv_accuracy = np.mean(cross_val_scores)\n",
        "std_cv_accuracy = np.std(cross_val_scores)\n",
        "\n",
        "print(f'Cross-Validation Scores: {cross_val_scores}')\n",
        "print(f'Mean Cross-Validation Accuracy: {mean_cv_accuracy:.2f}')\n",
        "print(f'Standard Deviation of Cross-Validation Accuracy: {std_cv_accuracy:.2f}')\n",
        "\n",
        "# Training Accuracy\n",
        "y_pred_train = clf_regularized.predict(X_train)\n",
        "accuracy_train = accuracy_score(y_train, y_pred_train)\n",
        "print(f'Training Accuracy: {accuracy_train:.2f}')"
      ],
      "metadata": {
        "colab": {
          "base_uri": "https://localhost:8080/"
        },
        "id": "CLNsPr3B4QGU",
        "outputId": "7efbde13-c354-48b7-8e42-11a99bc6b1b8"
      },
      "execution_count": null,
      "outputs": [
        {
          "output_type": "stream",
          "name": "stdout",
          "text": [
            "Regularized Model Accuracy on Test Set: 0.87\n",
            "Cross-Validation Scores: [0.87197215 0.87187679 0.87535762 0.87149533 0.8680145 ]\n",
            "Mean Cross-Validation Accuracy: 0.87\n",
            "Standard Deviation of Cross-Validation Accuracy: 0.00\n",
            "Training Accuracy: 0.88\n"
          ]
        }
      ]
    },
    {
      "cell_type": "code",
      "source": [
        "# Define a loyalty threshold in days, e.g., 730 days\n",
        "loyalty_threshold = 730\n",
        "\n",
        "# Train your model as before\n",
        "\n",
        "# Make predictions\n",
        "predictions = clf.predict(X_test)\n",
        "\n",
        "# Classify customers based on loyalty\n",
        "loyal_customers = X_test['Package_duration'] < loyalty_threshold\n",
        "\n",
        "# Define a list to store upgrade recommendations\n",
        "upgrade_recommendations = []\n",
        "\n",
        "# Loop through predictions and classify customers for recommendations\n",
        "for prediction, is_loyal in zip(predictions, loyal_customers):\n",
        "    if prediction == 'SINGLE_PLAY':\n",
        "        if is_loyal:\n",
        "            upgrade_recommendations.append('DOUBLE_PLAY_VOICE_PEO')\n",
        "        else:\n",
        "            upgrade_recommendations.append('DOUBLE_PLAY_VOICE_BB')\n",
        "    elif prediction == 'DOUBLE_PLAY_VOICE_PEO' or 'DOUBLE_PLAY_VOICE_BB' :\n",
        "        if is_loyal:\n",
        "            upgrade_recommendations.append('TRIPLE_PLAY')\n",
        "\n"
      ],
      "metadata": {
        "id": "ibOsd5j-uQY3"
      },
      "execution_count": null,
      "outputs": []
    }
  ]
}